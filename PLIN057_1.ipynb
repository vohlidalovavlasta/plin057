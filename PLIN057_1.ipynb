{
  "nbformat": 4,
  "nbformat_minor": 0,
  "metadata": {
    "colab": {
      "provenance": []
    },
    "kernelspec": {
      "name": "python3",
      "display_name": "Python 3"
    },
    "language_info": {
      "name": "python"
    }
  },
  "cells": [
    {
      "cell_type": "markdown",
      "source": [
        "# organizační záležitosti\n",
        "\n",
        "- harmonogram dostupný na https://docs.google.com/document/d/1eIfLeviD2DEMwzQgt3In4QKwIp53FZFDIKkpd1QmdGQ/edit?usp=sharing\n",
        "- absence\n",
        "  - povolené 3 neomluvené absence\n",
        "  - možnost přeskakovat témata (podle harmonogramu), ale je třeba písemná/ústní domluva se mnou (těžší zápočtový test?)\n",
        "- domácí úkoly\n",
        "  - nepovinné - cvičení, která se nestihnou na hodině\n",
        "  - povinná - zejména při odpadnutí hodiny\n",
        "- práce na hodinách\n",
        "  - v google colabu\n",
        "  - zejména python, ale co půjde, tak i pomocí bash\n",
        "- DNES\n",
        "  - základy pythonu (za dvě lekce?)"
      ],
      "metadata": {
        "id": "qWnJ6j7YO5to"
      }
    },
    {
      "cell_type": "markdown",
      "source": [
        "#Proměnné (variables) a jejich typy\n"
      ],
      "metadata": {
        "id": "bHOnY-VeTpxa"
      }
    },
    {
      "cell_type": "code",
      "source": [
        "# basic types\n",
        "\n",
        "a = 50 #int\n",
        "b = \"a\" #string\n",
        "c = 69.7 #float\n",
        "d = True #bool\n"
      ],
      "metadata": {
        "id": "DrCFSlpbUTKa"
      },
      "execution_count": null,
      "outputs": []
    },
    {
      "cell_type": "code",
      "source": [
        "# explicitní přetypování\n",
        "\n",
        "print(type(a))\n",
        "a = float(a)\n",
        "print(a)\n",
        "print(int(c))"
      ],
      "metadata": {
        "id": "F8tvBK8_TUiG"
      },
      "execution_count": null,
      "outputs": []
    },
    {
      "cell_type": "code",
      "source": [
        "# @title\n",
        "a = True\n",
        "b = 77.9"
      ],
      "metadata": {
        "cellView": "form",
        "id": "5mdxLm3KpkND"
      },
      "execution_count": null,
      "outputs": []
    },
    {
      "cell_type": "code",
      "source": [
        "#TODO: jakého typu je proměnná \"a\"?\n",
        "#TODO: změňte typ proměnné \"b\" na celé číslo (int) a vypište jeho hodnotu"
      ],
      "metadata": {
        "id": "hafgyQX9pQb7"
      },
      "execution_count": null,
      "outputs": []
    },
    {
      "cell_type": "markdown",
      "source": [
        "#list"
      ],
      "metadata": {
        "id": "4N3ZacsCpTlL"
      }
    },
    {
      "cell_type": "code",
      "source": [
        "# list - ordered (index - from 0), changeable, and allow duplicate values.\n",
        "\n",
        "names = [\"Vlasta\", \"Michal\", \"Ondra\"]\n",
        "\n",
        "names.append(\"Honza\")\n",
        "\n",
        "names.extend([\"Anna\", \"Michal\", \"anna\"])\n",
        "\n",
        "names.count(\"Michal\")\n",
        "\n",
        "names.remove(\"anna\")\n",
        "\n",
        "names.index(\"Michal\")"
      ],
      "metadata": {
        "id": "ADhA_cNUPjYp"
      },
      "execution_count": null,
      "outputs": []
    },
    {
      "cell_type": "code",
      "source": [
        "# ordered:\n",
        "\n",
        "a = [\"Vlasta\", \"Michal\"]\n",
        "b = [\"Michal\", \"Vlasta\"]\n",
        "\n",
        "print(a == b)"
      ],
      "metadata": {
        "id": "uygdKZFAqC_s"
      },
      "execution_count": null,
      "outputs": []
    },
    {
      "cell_type": "code",
      "source": [
        "# changeable - index from 0 !!\n",
        "\n",
        "a[0] = \"Tom\"\n",
        "\n",
        "print(a)"
      ],
      "metadata": {
        "id": "W4INuzl7qPL-"
      },
      "execution_count": null,
      "outputs": []
    },
    {
      "cell_type": "code",
      "source": [
        "# allow duplicates\n",
        "\n",
        "a = [\"Vlasta\", \"Michal\", \"Michal\"]\n",
        "print(len(a))"
      ],
      "metadata": {
        "id": "5dl7aAXXqXUE"
      },
      "execution_count": null,
      "outputs": []
    },
    {
      "cell_type": "code",
      "source": [
        "# @title\n",
        "\n",
        "mess = [\"1\", 7, \"9\", \"binec\", [\"a\", \"b\"], 66, \"1\", \"1\", \"hodně\", \"Málo\", \"binec\"]"
      ],
      "metadata": {
        "cellView": "form",
        "id": "46nyUcxFQnWH"
      },
      "execution_count": null,
      "outputs": []
    },
    {
      "cell_type": "code",
      "source": [
        "# TODO: print 3rd item from list \"mess\". What is its type?"
      ],
      "metadata": {
        "id": "0GdozoqWQgqG"
      },
      "execution_count": null,
      "outputs": []
    },
    {
      "cell_type": "code",
      "source": [
        "# TODO: add item \"Holedná\""
      ],
      "metadata": {
        "id": "8v2iXsCNSsBc"
      },
      "execution_count": null,
      "outputs": []
    },
    {
      "cell_type": "code",
      "source": [
        "# TODO: add items from list b to list \"mess\"\n",
        "b = [\"Brno\", \"Česká\", 65]"
      ],
      "metadata": {
        "id": "vS2eYfHlS8IB"
      },
      "execution_count": null,
      "outputs": []
    },
    {
      "cell_type": "code",
      "source": [
        "# how many times is there the value that is saved in the first position\n"
      ],
      "metadata": {
        "id": "2U2dv319fEck"
      },
      "execution_count": null,
      "outputs": []
    },
    {
      "cell_type": "markdown",
      "source": [
        "# set"
      ],
      "metadata": {
        "id": "KZ1WvQ68TnSt"
      }
    },
    {
      "cell_type": "code",
      "source": [
        "# set - unordered, unchangeable, does NOT allow duplicates\n",
        "\n",
        "print(names)"
      ],
      "metadata": {
        "id": "u0P5H9_7TqxT"
      },
      "execution_count": null,
      "outputs": []
    },
    {
      "cell_type": "code",
      "source": [
        "unique_names = set(names)\n",
        "print(unique_names)"
      ],
      "metadata": {
        "id": "ffLUWhqJTvh_"
      },
      "execution_count": null,
      "outputs": []
    },
    {
      "cell_type": "code",
      "source": [
        "print(len(unique_names))\n",
        "unique_names.add(\"Michal\")\n",
        "print(len(unique_names))\n",
        "unique_names.add(\"michal\")\n",
        "print(len(unique_names))\n",
        "unique_names.remove(\"Michal\")\n",
        "\n"
      ],
      "metadata": {
        "id": "B4fZ4HqpT1mU"
      },
      "execution_count": null,
      "outputs": []
    },
    {
      "cell_type": "code",
      "source": [
        "cities = [\"London\", \"Berlin\", \"Prague\", \"Birmingham\", \"Linz\", \"Hamburg\", \"Prague\", \"Berlin\"]"
      ],
      "metadata": {
        "id": "B_1ZZaMRWV6g"
      },
      "execution_count": null,
      "outputs": []
    },
    {
      "cell_type": "code",
      "source": [
        "# TODO: how many unique values is in the list \"cities\"? And how many there are altogether (including duplicates)?"
      ],
      "metadata": {
        "id": "SCMztj5hUgNg"
      },
      "execution_count": null,
      "outputs": []
    },
    {
      "cell_type": "markdown",
      "source": [
        "# Dictionaries"
      ],
      "metadata": {
        "id": "3IU6bpiAWyzR"
      }
    },
    {
      "cell_type": "code",
      "source": [
        "names = [\"Vlasta\", \"Michal\", \"Ondra\"] # list\n",
        "\n",
        "# dicitonary - A dictionary is a collection which is ordered* (newly), changeable and do not allow duplicates.\n",
        "favourite_colour = {\"Vlasta\": \"orange\", \"Michal\": \"blue\", \"Ondra\": \"yellow\"}\n"
      ],
      "metadata": {
        "id": "V6AzJFZeUvP9"
      },
      "execution_count": 7,
      "outputs": []
    },
    {
      "cell_type": "code",
      "source": [
        "# does NOT allow duplicates - in keys, not values\n",
        "\n",
        "favourite_colour = {\"Vlasta\": \"orange\", \"Michal\": \"blue\", \"Ondra\": \"yellow\", \"Vlasta\": \"blue\"}\n",
        "print(favourite_colour[\"Vlasta\"])\n",
        "print(favourite_colour[\"Michal\"])"
      ],
      "metadata": {
        "colab": {
          "base_uri": "https://localhost:8080/"
        },
        "id": "pgBW59NfmFc_",
        "outputId": "d37169ab-5dc5-46a1-e464-2f5571c8629a"
      },
      "execution_count": 9,
      "outputs": [
        {
          "output_type": "stream",
          "name": "stdout",
          "text": [
            "blue\n",
            "blue\n"
          ]
        }
      ]
    },
    {
      "cell_type": "code",
      "source": [
        "# adding new item\n",
        "favourite_colour[\"Jan\"] = \"brown\"\n",
        "print(favourite_colour)"
      ],
      "metadata": {
        "id": "QYg14W2ZXNVo"
      },
      "execution_count": null,
      "outputs": []
    },
    {
      "cell_type": "code",
      "source": [
        "# changing existing item\n",
        "favourite_colour[\"Jan\"] = \"blue\"\n",
        "print(favourite_colour)"
      ],
      "metadata": {
        "id": "Hgr1ZdkFXX4c"
      },
      "execution_count": null,
      "outputs": []
    },
    {
      "cell_type": "code",
      "source": [
        "# removing item\n",
        "\n",
        "favourite_colour.pop(\"Jan\")\n",
        "print(favourite_colour)"
      ],
      "metadata": {
        "id": "bEuRtk_eXaYY"
      },
      "execution_count": null,
      "outputs": []
    },
    {
      "cell_type": "code",
      "source": [
        "# item in dict\n",
        "\n",
        "\"Vlasta\" in favourite_colour\n",
        "\n",
        "\"yellow\" in favourite_colour"
      ],
      "metadata": {
        "id": "9BWaT5dzcVmn"
      },
      "execution_count": null,
      "outputs": []
    },
    {
      "cell_type": "code",
      "source": [
        "# @title\n",
        "favourite_colour = {\"Vít\": \"green\", \"Hana\": \"dark blue\", \"Ondra\": \"pink\", \"Ota\": \"gold\"}"
      ],
      "metadata": {
        "id": "mmcX5dAvchBK",
        "cellView": "form"
      },
      "execution_count": null,
      "outputs": []
    },
    {
      "cell_type": "code",
      "source": [
        "# TODO: Favourite colour of my brother Petr is green, add this information to the dictionary \"favourite_colour\""
      ],
      "metadata": {
        "id": "hHjIxOnScpTw"
      },
      "execution_count": null,
      "outputs": []
    },
    {
      "cell_type": "code",
      "source": [
        "# how many items are there in the \"favourite_colour\" dictionary?"
      ],
      "metadata": {
        "id": "PezeSjHNlr6X"
      },
      "execution_count": null,
      "outputs": []
    },
    {
      "cell_type": "code",
      "source": [
        "# find out if the person (key) \"Vít\" is in the \"favourite_colour\" dicitonary"
      ],
      "metadata": {
        "id": "bggtnbq1leje"
      },
      "execution_count": null,
      "outputs": []
    },
    {
      "cell_type": "markdown",
      "source": [
        "# podmínky (větvění programu)\n"
      ],
      "metadata": {
        "id": "9RT_2NHYcrJZ"
      }
    },
    {
      "cell_type": "code",
      "source": [
        "# výpočet absolutní hodnoty rozdílu\n",
        "\n",
        "a = 20\n",
        "b = 60\n",
        "\n",
        "if a >= b:\n",
        "  absolute_value = a-b\n",
        "else:\n",
        "  absolute_value = b-a\n",
        "\n",
        "\n",
        "absolute_value_shorter = abs(a-b)\n",
        "\n",
        "print(absolute_value)\n",
        "print(absolute_value_shorter)"
      ],
      "metadata": {
        "colab": {
          "base_uri": "https://localhost:8080/"
        },
        "id": "I-KUNFNxcugu",
        "outputId": "77eff86a-1635-4fc4-f6bf-b98b271e8017"
      },
      "execution_count": 2,
      "outputs": [
        {
          "output_type": "stream",
          "name": "stdout",
          "text": [
            "40\n",
            "40\n"
          ]
        }
      ]
    },
    {
      "cell_type": "code",
      "source": [
        "# if-elif-else + f-string\n",
        "a = 0\n",
        "\n",
        "if a == 0:\n",
        "  print(f\"číslo {a} je sudé\")\n",
        "elif a % 2 == 0:\n",
        "  print(f\"číslo {a} je sudé\")\n",
        "else:\n",
        "  print(f\"číslo {a} je liché\")"
      ],
      "metadata": {
        "id": "ZAFxqJEidNAg"
      },
      "execution_count": null,
      "outputs": []
    },
    {
      "cell_type": "code",
      "source": [
        "# or + and\n",
        "a = -8\n",
        "\n",
        "if a == 0 or a % 2 == 0:\n",
        "  print(f\"číslo {a} je sudé\")\n",
        "else:\n",
        "  print(f\"číslo {a} je liché\")"
      ],
      "metadata": {
        "id": "frgYxUoAe2P1"
      },
      "execution_count": null,
      "outputs": []
    },
    {
      "cell_type": "code",
      "source": [
        "# Ternární operátor\n",
        "\n",
        "a = 88\n",
        "b = 9\n",
        "\n",
        "\n",
        "if a > 9:\n",
        "  max_number = a\n",
        "else:\n",
        "  max_number = b\n",
        "\n",
        "max_number_shorter = a if a > b else b\n",
        "\n",
        "max_number_even_better = max(a, b)\n",
        "\n",
        "print(max_number_shorter)\n",
        "print(max_number_even_better)"
      ],
      "metadata": {
        "colab": {
          "base_uri": "https://localhost:8080/"
        },
        "id": "0Vv-Iqg_fG-l",
        "outputId": "d6c15057-243d-487f-8a8f-b6ffc140a9bf"
      },
      "execution_count": 1,
      "outputs": [
        {
          "output_type": "stream",
          "name": "stdout",
          "text": [
            "88\n",
            "88\n"
          ]
        }
      ]
    },
    {
      "cell_type": "code",
      "source": [
        "# @title\n",
        "a = -15"
      ],
      "metadata": {
        "cellView": "form",
        "id": "WkyJmM12npmd"
      },
      "execution_count": null,
      "outputs": []
    },
    {
      "cell_type": "code",
      "source": [
        "# TODO: v proměnné a je uloženo číslo, zjistěte (pomocí podmínek ;)), zda je číslo kladné anebo záporné anebo 0"
      ],
      "metadata": {
        "id": "C8sgF8IffHTo"
      },
      "execution_count": null,
      "outputs": []
    },
    {
      "cell_type": "code",
      "source": [
        "# @title\n",
        "score = 90"
      ],
      "metadata": {
        "cellView": "form",
        "id": "3IR84IP_Mw5c"
      },
      "execution_count": null,
      "outputs": []
    },
    {
      "cell_type": "code",
      "source": [
        "# TODO: variable \"score\" holds number of points (0-100). Write if-script that will convert the score into grade by those rules: A (90–100), B (80–89), C (70–79), D (60–69), F (<60)"
      ],
      "metadata": {
        "id": "ur7N8kPBpfEa"
      },
      "execution_count": null,
      "outputs": []
    },
    {
      "cell_type": "markdown",
      "source": [
        "# cykly - for, while"
      ],
      "metadata": {
        "id": "QWeyUExWgCsO"
      }
    },
    {
      "cell_type": "code",
      "source": [
        "# while - vypíše čísla 1-9 + add 1\n",
        "\n",
        "i = 0\n",
        "while i > 10:\n",
        "  print(i)\n",
        "  i += 1\n",
        "  # i = i + 1"
      ],
      "metadata": {
        "id": "Sbu8C4VhgHM0"
      },
      "execution_count": 3,
      "outputs": []
    },
    {
      "cell_type": "code",
      "source": [
        "# for cyklus\n",
        "\n",
        "names = [\"Vlasta\", \"Michal\", \"Petr\", \"Karel\", \"Magdalena\", \"Jan\"]\n",
        "\n",
        "for name in names:\n",
        "  print(name)\n",
        "\n"
      ],
      "metadata": {
        "id": "KTs7s2QVh_S5"
      },
      "execution_count": null,
      "outputs": []
    },
    {
      "cell_type": "code",
      "source": [
        "for char in \"string\":\n",
        "  print(char)"
      ],
      "metadata": {
        "id": "AzyImTuPk3YF"
      },
      "execution_count": null,
      "outputs": []
    },
    {
      "cell_type": "code",
      "source": [],
      "metadata": {
        "id": "cwsJ2mYponcf"
      },
      "execution_count": null,
      "outputs": []
    },
    {
      "cell_type": "code",
      "source": [
        "names_to_be_deleted = [\"Vlasta\"]\n",
        "\n",
        "for name in names:\n",
        "  if name in names_to_be_deleted:\n",
        "    names.remove(name)\n",
        "\n",
        "print(names)"
      ],
      "metadata": {
        "id": "JJMZiXfoiMnD"
      },
      "execution_count": null,
      "outputs": []
    },
    {
      "cell_type": "code",
      "source": [
        "for name in names:\n",
        "  if \"a\" in name:\n",
        "    print(f\"name {name} contains character 'a'\")"
      ],
      "metadata": {
        "id": "lpn06JSuor5A"
      },
      "execution_count": null,
      "outputs": []
    },
    {
      "cell_type": "code",
      "source": [
        "for name in names:\n",
        "  if \"a\" not in name:\n",
        "    print(f\"name {name} does not contain character 'a'\")"
      ],
      "metadata": {
        "id": "6Ky1wS8iw-ms"
      },
      "execution_count": null,
      "outputs": []
    },
    {
      "cell_type": "code",
      "source": [
        "# fce range(starts, stop, krok)\n",
        "\n",
        "for i in range(0,10):\n",
        "  print(i)"
      ],
      "metadata": {
        "id": "zPaBHqH7jAZ2"
      },
      "execution_count": null,
      "outputs": []
    },
    {
      "cell_type": "code",
      "source": [
        "for i in range(10):\n",
        "  print(i)"
      ],
      "metadata": {
        "id": "CpyZZmL8j0Eg"
      },
      "execution_count": null,
      "outputs": []
    },
    {
      "cell_type": "code",
      "source": [
        "for i in range(0,10, 2):\n",
        "  print(i)"
      ],
      "metadata": {
        "id": "3sfowd6nkBlL"
      },
      "execution_count": null,
      "outputs": []
    },
    {
      "cell_type": "code",
      "source": [
        "# typické využití: vypiš n prvních prvků\n",
        "\n",
        "for i in range(5):\n",
        "  print(names[i])"
      ],
      "metadata": {
        "id": "MaLaqqXUkEaE"
      },
      "execution_count": null,
      "outputs": []
    },
    {
      "cell_type": "code",
      "source": [
        "# @title\n",
        "names = [\"jan\", \"Petr\", \"František\", \"Ota\", \"Hana\", \"Šárka\", \"Vilém\", \"Jana\"]"
      ],
      "metadata": {
        "cellView": "form",
        "id": "9ygm51Ssz3KC"
      },
      "execution_count": null,
      "outputs": []
    },
    {
      "cell_type": "code",
      "source": [
        "# TODO: vypište každý druhý prvek z seznamu \"names\"\n",
        "# TODO: je jméno \"Jan\" v seznamu?\n",
        "# TODO: vytvořte nový seznam (surnames), který bude obsahovat každé jméno ze seznamu \"names\" + příjmení Nový (např. Vilém Nový) nebo, pokud jméno končí na \"a\", tak Nová (např. Jana Nová)"
      ],
      "metadata": {
        "id": "Lzo2kxcfkZb2"
      },
      "execution_count": null,
      "outputs": []
    },
    {
      "cell_type": "markdown",
      "source": [
        "# for cyklus se slovníky"
      ],
      "metadata": {
        "id": "JXf2UmFkkt80"
      }
    },
    {
      "cell_type": "code",
      "source": [
        "cities = {\"Berlin\":\n",
        " {\n",
        "     \"persons\": 300,\n",
        "     \"country\": \"Germany\"\n",
        "  },\n",
        "          \"London\": {\n",
        "     \"persons\": 600,\n",
        "     \"country\": \"UK\"\n",
        "  },\n",
        "          \"Prague\":{\n",
        "     \"persons\": 100,\n",
        "     \"country\": \"Czechia\"\n",
        "  }\n",
        "}\n"
      ],
      "metadata": {
        "id": "PRyotkM_kswL"
      },
      "execution_count": null,
      "outputs": []
    },
    {
      "cell_type": "code",
      "source": [
        "cities = {\"Berlin\": 300, \"London\": 600, \"Prague\": 100}\n"
      ],
      "metadata": {
        "id": "qzo4tpBKmkv3"
      },
      "execution_count": null,
      "outputs": []
    },
    {
      "cell_type": "code",
      "source": [
        "# for key in dic.keys():\n",
        "\n",
        "for city in cities.keys():\n",
        "  print(city)"
      ],
      "metadata": {
        "id": "CwP80-RzktHL"
      },
      "execution_count": null,
      "outputs": []
    },
    {
      "cell_type": "code",
      "source": [
        "# for val in dic.values()\n",
        "\n",
        "for num_of_people in cities.values():\n",
        "  print(num_of_people)"
      ],
      "metadata": {
        "id": "od562dO4mgAZ"
      },
      "execution_count": null,
      "outputs": []
    },
    {
      "cell_type": "code",
      "source": [
        "# for key, val in dic.items()\n",
        "\n",
        "for city, persons in cities.items():\n",
        "  print(city, persons)"
      ],
      "metadata": {
        "id": "p78HT85-m22k"
      },
      "execution_count": null,
      "outputs": []
    },
    {
      "cell_type": "code",
      "source": [
        "cities[\"Hamburg\"] = 350\n",
        "\n",
        "for city, persons in cities.items():\n",
        "  if persons <= 200:\n",
        "    print(f\"city {city} is rather small\")\n",
        "  elif persons > 200 and persons < 500: #persons < 500\n",
        "    print(f\"city {city} is medium sized\")\n",
        "  else:\n",
        "    print(f\"city {city} is too big\")\n"
      ],
      "metadata": {
        "id": "DHtl7612m8Zn"
      },
      "execution_count": null,
      "outputs": []
    },
    {
      "cell_type": "code",
      "source": [],
      "metadata": {
        "id": "gQI_D0XcweEA"
      },
      "execution_count": null,
      "outputs": []
    },
    {
      "cell_type": "code",
      "source": [
        "# TODO"
      ],
      "metadata": {
        "id": "pA8SUE4fnnvC"
      },
      "execution_count": null,
      "outputs": []
    },
    {
      "cell_type": "markdown",
      "source": [
        "# cvičení na doma"
      ],
      "metadata": {
        "id": "wC4JGFU2rtNH"
      }
    },
    {
      "cell_type": "code",
      "source": [
        "# @title\n",
        "year = 2008"
      ],
      "metadata": {
        "cellView": "form",
        "id": "ozZtkB0auHnp"
      },
      "execution_count": null,
      "outputs": []
    },
    {
      "cell_type": "code",
      "source": [
        "# TODO: Find out if the year in variable \"year\" is a leap year.\n",
        "# definice přestupného roku:\n",
        "# \"Mezinárodně používaný občanský kalendář je gregoriánský kalendář, který má přestupný každý čtvrtý rok (rok dělitelný beze zbytku čtyřmi),\n",
        "# ale roky dělitelné 100 jsou přestupné jenom tehdy, jsou-li dělitelné také 400.\"\n"
      ],
      "metadata": {
        "id": "40Bvhng0rvn4"
      },
      "execution_count": 5,
      "outputs": []
    },
    {
      "cell_type": "code",
      "source": [
        "# @title\n",
        "years = [15, 85, 998, 785, 1558, 4111, 625, 1254, 1847, 1999, 1997, 1658, 874, 2011, 2001, 2010, 2350]"
      ],
      "metadata": {
        "cellView": "form",
        "id": "1D5jb624uYOa"
      },
      "execution_count": null,
      "outputs": []
    },
    {
      "cell_type": "code",
      "source": [
        "# TODO instead of one year, you have a list of them (variable years). Using the previous script, print each leap year from the list years. How many are there?"
      ],
      "metadata": {
        "id": "IKIXxeSSuK3i"
      },
      "execution_count": null,
      "outputs": []
    },
    {
      "cell_type": "code",
      "source": [
        "# @title\n",
        "shopping_items = {\"apple\": 19.6, \"banana\": 8.4, \"orange\": 7, \"avocado\": 38.9, \"tomato\": 5.7, \"potato\": 8.7, \"pear\": 9.7, \"grapes\": 9, \"passion fruit\": 29.6, \"tangerine\": 11.6}\n",
        "buy_list = [\"apple\", \"orange\", \"passion fruit\", \"carrot\"]"
      ],
      "metadata": {
        "cellView": "form",
        "id": "gPqOTbv6tmid"
      },
      "execution_count": null,
      "outputs": []
    },
    {
      "cell_type": "code",
      "source": [
        "# TODO: all available items (fruit and vegetable) in a shop are in dictionary \"shopping_items\" in the format: shopping_items = {\"item\": \"price\"}, e.g shopping_items = {\"pear\": 1.7}\n",
        "# all items you want to buy is in buy_list. Count the price for all items you want to buy. Do not forget an item might not be availabel in the shop"
      ],
      "metadata": {
        "id": "wVaffZeXvz9a"
      },
      "execution_count": null,
      "outputs": []
    },
    {
      "cell_type": "code",
      "source": [
        "# @title\n",
        "shopping_items = {\"apple\": 19.6, \"banana\": 8.4, \"orange\": 7, \"avocado\": 38.9, \"tomato\": 5.7, \"potato\": 8.7, \"pear\": 9.7, \"grapes\": 9, \"passion fruit\": 29.6, \"tangerine\": 11.6}\n",
        "buy_list = {\"apple\": 3, \"cucumber\": 1, \"avocado\": 5, \"pear\": 2}"
      ],
      "metadata": {
        "cellView": "form",
        "id": "5whsm7MTx8Xb"
      },
      "execution_count": null,
      "outputs": []
    },
    {
      "cell_type": "code",
      "source": [
        "# TODO: variant on the previous exercise, but buy_list is a dictionary in this format: buy_list = {\"apple\": 1}, i.e. it says how many items you want to buy. Count the price."
      ],
      "metadata": {
        "id": "vG-RFc6tyOo4"
      },
      "execution_count": null,
      "outputs": []
    }
  ]
}